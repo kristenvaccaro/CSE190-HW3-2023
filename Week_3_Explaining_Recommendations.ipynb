{
  "nbformat": 4,
  "nbformat_minor": 0,
  "metadata": {
    "kernelspec": {
      "display_name": "Python 3",
      "language": "python",
      "name": "python3"
    },
    "language_info": {
      "codemirror_mode": {
        "name": "ipython",
        "version": 3
      },
      "file_extension": ".py",
      "mimetype": "text/x-python",
      "name": "python",
      "nbconvert_exporter": "python",
      "pygments_lexer": "ipython3",
      "version": "3.6.8"
    },
    "toc": {
      "base_numbering": 1,
      "nav_menu": {},
      "number_sections": false,
      "sideBar": false,
      "skip_h1_title": false,
      "title_cell": "Table of Contents",
      "title_sidebar": "Contents",
      "toc_cell": false,
      "toc_position": {},
      "toc_section_display": false,
      "toc_window_display": false
    },
    "colab": {
      "name": "Week_3_Explaining_Recommendations.ipynb",
      "private_outputs": true,
      "provenance": [],
      "collapsed_sections": []
    }
  },
  "cells": [
    {
      "cell_type": "markdown",
      "metadata": {
        "id": "8HhoaZMxrZXZ"
      },
      "source": [
        "# Music Recommendations\n",
        "This dataset is for making music recommendations. We will build a machine learning model to recommend new songs to users.\n",
        "\n",
        "**Your goal in this assignment is to think about ways to explain recommendations to different stakeholders.**\n",
        "\n",
        "\n",
        "## Part 1: Data Exploration\n",
        "\n",
        "Upload the CSVs ('songs.csv' & 'likes.csv) included in the homework assignment."
      ]
    },
    {
      "cell_type": "code",
      "metadata": {
        "id": "bduXgr6K4QF5"
      },
      "source": [
        "from google.colab import files\n",
        "uploaded = files.upload()"
      ],
      "execution_count": null,
      "outputs": []
    },
    {
      "cell_type": "markdown",
      "metadata": {
        "id": "A95MpbULaY4G"
      },
      "source": [
        "Now load the data into pandas dataframes.\n"
      ]
    },
    {
      "cell_type": "code",
      "metadata": {
        "id": "K0ZlYOlqZJEd"
      },
      "source": [
        "import pandas as pd\n",
        "songs_df = pd.read_csv('songs.csv', low_memory=False)\n",
        "likes_df = pd.read_csv('likes.csv', low_memory=False)"
      ],
      "execution_count": null,
      "outputs": []
    },
    {
      "cell_type": "markdown",
      "metadata": {
        "id": "YUk7zAuJqKkU"
      },
      "source": [
        "The songs dataframe contains information about 30 songs. The likes dataframe contains information about which people have \"liked\" which songs. These data sets are small enough that you can look at them directly. "
      ]
    },
    {
      "cell_type": "code",
      "metadata": {
        "id": "KkO3fGY1p6sP"
      },
      "source": [
        "songs_df"
      ],
      "execution_count": null,
      "outputs": []
    },
    {
      "cell_type": "code",
      "metadata": {
        "id": "LwCkC-ZvqYuZ"
      },
      "source": [
        "likes_df\n"
      ],
      "execution_count": null,
      "outputs": []
    },
    {
      "cell_type": "markdown",
      "metadata": {
        "id": "Ow5emCJprZXg"
      },
      "source": [
        "## Part 2: Content-Based Recommendations\n",
        "One way that we could make recommendations is to find songs that are similar to the songs that a user already likes, using the information we have about each song--artist, genre, danceability, valence, and energy. (Danceability, valence, and energy were extracted from [Spotify's API](https://developer.spotify.com/documentation/web-api/reference/#object-audiofeaturesobject).) \n",
        "\n",
        "First, we need to transform our data so that artist and genre can be represented numerically.\n",
        "\n"
      ]
    },
    {
      "cell_type": "code",
      "metadata": {
        "id": "S3jbdmknPTuy"
      },
      "source": [
        "songs_df = pd.get_dummies(songs_df, columns=['Artist', 'Genre'])\n",
        "songs_df.head()"
      ],
      "execution_count": null,
      "outputs": []
    },
    {
      "cell_type": "markdown",
      "metadata": {
        "id": "2hsnLiULPzGf"
      },
      "source": [
        "Now we can find pairs of songs that are similar (SSID stands for \"similar song ID\")."
      ]
    },
    {
      "cell_type": "code",
      "metadata": {
        "id": "BscEuPb-rZXh"
      },
      "source": [
        "from sklearn.neighbors import NearestNeighbors\n",
        "song_data = songs_df.drop(columns=['SongID', 'Title']).values\n",
        "neighbors = NearestNeighbors(n_neighbors=2, algorithm='brute').fit(song_data)\n",
        "_, indices = neighbors.kneighbors(song_data)\n",
        "song_pairs = {'SongID': songs_df['SongID'], 'Song': songs_df['Title'], 'Similar Song': songs_df['Title'][indices[:,1]].values, 'SSID': songs_df['SongID'][indices[:,1]].values}\n",
        "similarity_df = pd.DataFrame(song_pairs)\n",
        "similarity_df.head()"
      ],
      "execution_count": null,
      "outputs": []
    },
    {
      "cell_type": "markdown",
      "metadata": {
        "id": "ca56CE5H1pNw"
      },
      "source": [
        "Now that we've calculated pairs of similar songs, we can start making recommendations. "
      ]
    },
    {
      "cell_type": "code",
      "metadata": {
        "id": "GVq3xx9i18Vt"
      },
      "source": [
        "grouped = pd.merge(likes_df, similarity_df).groupby('Person')\n",
        "recommended = []\n",
        "for person, info in grouped:\n",
        "  print(person,info)\n",
        "  recs = set([song for song in info['Similar Song'].values if song not in info['Song'].values])\n",
        "  recommended += [(person, rec) for rec in recs]\n",
        "recommendations_df = pd.DataFrame(recommended, columns = ['Name', 'Recommendations'])\n",
        "recommendations_df"
      ],
      "execution_count": null,
      "outputs": []
    },
    {
      "cell_type": "markdown",
      "metadata": {
        "id": "DizfexFSrZXh"
      },
      "source": [
        "### Question 1: How would you explain to Adrian why the song \"I Like It\" is recommended to him?\n",
        "\n",
        "_Double click to write your answer question here. Show your work in code below if applicable._"
      ]
    },
    {
      "cell_type": "code",
      "metadata": {
        "id": "eJcI7R1QrZXh"
      },
      "source": [
        ""
      ],
      "execution_count": null,
      "outputs": []
    },
    {
      "cell_type": "markdown",
      "metadata": {
        "id": "V1_RUsGzrZXi"
      },
      "source": [
        "## Part 3: Collaborative Filtering\n",
        "A different way to make recommendations is -- instead of basing it on the attributes of the song -- to base it on the listening behavior of other people. If someone likes a lot of the same things as you, there's a good chance you'll like other things they like (that you haven't tried yet).\n",
        "\n",
        "To calculate this, we will start by rearranging our data."
      ]
    },
    {
      "cell_type": "code",
      "metadata": {
        "id": "oPCEViuLrZXi"
      },
      "source": [
        "matrix_df = likes_df.copy()\n",
        "matrix_df.loc[:,'present'] = 1\n",
        "matrix_df = matrix_df.pivot(index='SongID', columns='Person', values='present').fillna(0)\n",
        "matrix_df"
      ],
      "execution_count": null,
      "outputs": []
    },
    {
      "cell_type": "markdown",
      "metadata": {
        "id": "C1HalhFIAdU1"
      },
      "source": [
        "In the above matrix, a 1 in row i and column j indicates that user j has liked song i. For example, we know that Adrian likes \"Basket Case\", because there is a 1 in the first column of the sixth row (\"Basket Case\" is song #6 in the dataset). \n",
        "\n",
        "Now we have a different way to measure song similarity. Two songs are similar if they are liked by many of the same users.\n"
      ]
    },
    {
      "cell_type": "code",
      "metadata": {
        "id": "QwotFtwSAenM"
      },
      "source": [
        "song_data = matrix_df.values\n",
        "neighbors = NearestNeighbors(n_neighbors=2, algorithm='brute').fit(song_data)\n",
        "_, indices = neighbors.kneighbors(song_data)\n",
        "songs = songs_df['Title'].values\n",
        "song_pairs = {'SongID': matrix_df.index.values, 'Song': songs, 'Similar Song': songs[indices[:,1]],'SSID': songs_df['SongID'][indices[:,1]].values}\n",
        "similarity_df = pd.DataFrame(song_pairs)\n",
        "similarity_df.head(10)"
      ],
      "execution_count": null,
      "outputs": []
    },
    {
      "cell_type": "markdown",
      "metadata": {
        "id": "bkrMlqIaGrxM"
      },
      "source": [
        "Now that we've again calculated pairs of similar songs, we can start making new recommendations. "
      ]
    },
    {
      "cell_type": "code",
      "metadata": {
        "id": "hFPSdLxIGs1u"
      },
      "source": [
        "grouped = pd.merge(likes_df, similarity_df).groupby('Person')\n",
        "recommended = []\n",
        "for person, info in grouped:\n",
        "  recs = set([song for song in info['Similar Song'].values if song not in info['Song'].values])\n",
        "  recommended += [(person, rec) for rec in recs]\n",
        "recommendations_df = pd.DataFrame(recommended, columns = ['Name', 'Recommendations'])\n",
        "recommendations_df"
      ],
      "execution_count": null,
      "outputs": []
    },
    {
      "cell_type": "markdown",
      "metadata": {
        "id": "_DzahGurHNCi"
      },
      "source": [
        "### Question 2: How would you explain to Alex why the song \"drivers license\" is recommended to him?\n",
        "\n",
        "_Double click to write your answer question here. Show your work in code below if applicable._"
      ]
    },
    {
      "cell_type": "code",
      "metadata": {
        "id": "52i5zfa3HpWS"
      },
      "source": [
        ""
      ],
      "execution_count": null,
      "outputs": []
    },
    {
      "cell_type": "markdown",
      "metadata": {
        "id": "ezDCRDCYfdry"
      },
      "source": [
        "###Question 3: Sketch four interactions that provide an explanation of the collaborative filtering recommendation system that could be used by each of the following target users:\n",
        "\n",
        "####3A. Someone who uses the \"Daily Mix\" playlist on their smartphone while going for a daily walk.\n",
        "\n",
        "####3B. A user who plays the recommended tracks beginning from a starting song on their smart speaker (Google Home, Amazon Echo, Nest, etc).\n",
        "<!--A user who hasn't been using Spotify much recently, because they're bored with the music they hear. -->\n",
        "\n",
        "####3C. A band member whose music is featured on Spotify. \n",
        "\n",
        "####3D. An executive at a video game company that would like to start a sponsorship for musicians. \n",
        "\n",
        "As you begin, reflect on user goals and the criteria for a good explanation that we talked about last week. \n",
        "\n",
        "_Please attach your annotated sketches as a PDF._\n"
      ]
    },
    {
      "cell_type": "code",
      "metadata": {
        "id": "PzaPWIAPgHPH"
      },
      "source": [
        ""
      ],
      "execution_count": null,
      "outputs": []
    }
  ]
}